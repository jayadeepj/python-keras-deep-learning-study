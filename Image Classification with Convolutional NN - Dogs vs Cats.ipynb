{
 "cells": [
  {
   "cell_type": "markdown",
   "metadata": {},
   "source": [
    "## Convolutional Neural Network : Binary Image Classification "
   ]
  },
  {
   "cell_type": "markdown",
   "metadata": {},
   "source": [
    "To show the functionality of convnets we use the Dogs vs Cats Kaggle problem dataset @ https://www.kaggle.com/c/dogs-vs-cats/data"
   ]
  },
  {
   "cell_type": "markdown",
   "metadata": {},
   "source": [
    "### Train, Validation & Test Data  Preparation"
   ]
  },
  {
   "cell_type": "code",
   "execution_count": 8,
   "metadata": {},
   "outputs": [
    {
     "name": "stdout",
     "output_type": "stream",
     "text": [
      "total training cat images: 1000\n",
      "total validation cat images: 500\n",
      "total test cat images: 500\n",
      "total training dog images: 1000\n",
      "total validation dog images: 500\n",
      "total test dog images: 500\n"
     ]
    }
   ],
   "source": [
    "\"\"\"\n",
    "Dataset Creation \n",
    "\"\"\"\n",
    "\n",
    "data_dir = '/home/jay/ml/topics/neural nets and deep learning/data/dogs_cats_classification'\n",
    "raw_dir_suffix = 'raw/all/train'\n",
    "train_dir_suffix = 'train'\n",
    "validation_dir_suffix = 'validation'\n",
    "test_dir_suffix = 'test'\n",
    "\n",
    "import os, shutil\n",
    "import os.path as path\n",
    "raw_data_dir = path.join(data_dir,raw_dir_suffix)\n",
    "train_data_dir = path.join(data_dir,train_dir_suffix)\n",
    "validation_data_dir = path.join(data_dir,validation_dir_suffix)\n",
    "test_data_dir = path.join(data_dir,test_dir_suffix)\n",
    "\n",
    "for artifact_dir in (train_data_dir,validation_data_dir,test_data_dir):\n",
    "    shutil.rmtree(path=artifact_dir, ignore_errors=True)\n",
    "    os.makedirs(artifact_dir)\n",
    "    os.makedirs(path.join(artifact_dir,'cat'))\n",
    "    os.makedirs(path.join(artifact_dir,'dog'))\n",
    "\n",
    "for animal in ('cat','dog'):\n",
    "    for i in range (1000):\n",
    "        animal_file_name = f\"{animal}.{i}.jpg\"\n",
    "        shutil.copy(path.join(raw_data_dir,animal_file_name),\n",
    "                    path.join(train_data_dir,animal),\n",
    "                    follow_symlinks=True)\n",
    "\n",
    "    for i in range (1000,1500):\n",
    "        animal_file_name = f\"{animal}.{i}.jpg\"\n",
    "        shutil.copy(path.join(raw_data_dir,animal_file_name),\n",
    "                    path.join(validation_data_dir,animal),\n",
    "                    follow_symlinks=True)\n",
    "\n",
    "    for i in range (1500,2000):\n",
    "        animal_file_name = f\"{animal}.{i}.jpg\"\n",
    "        shutil.copy(path.join(raw_data_dir,animal_file_name),\n",
    "                    path.join(test_data_dir,animal),\n",
    "                    follow_symlinks=True)\n",
    "\n",
    "\n",
    "### Sanity check\n",
    "for animal in ('cat','dog'):\n",
    "    print(f'total training {animal} images:', len(os.listdir(path.join(train_data_dir,animal))))\n",
    "    print(f'total validation {animal} images:', len(os.listdir(path.join(validation_data_dir,animal))))\n",
    "    print(f'total test {animal} images:', len(os.listdir(path.join(test_data_dir, animal))))"
   ]
  },
  {
   "cell_type": "markdown",
   "metadata": {},
   "source": [
    "### Data Preprocessing"
   ]
  },
  {
   "cell_type": "code",
   "execution_count": 10,
   "metadata": {},
   "outputs": [
    {
     "name": "stdout",
     "output_type": "stream",
     "text": [
      "Found 2000 images belonging to 2 classes.\n",
      "Found 1000 images belonging to 2 classes.\n"
     ]
    }
   ],
   "source": [
    "from keras.preprocessing import image\n",
    "\n",
    "train_datagen = image.ImageDataGenerator(rescale=1./255)\n",
    "\n",
    "validation_datagen = image.ImageDataGenerator(rescale=1./255)\n",
    "\n",
    "train_generator = train_datagen.flow_from_directory(\n",
    "        train_data_dir,\n",
    "        target_size=(150, 150),\n",
    "        batch_size=20,\n",
    "        class_mode='binary')\n",
    "\n",
    "validation_generator = validation_datagen.flow_from_directory(\n",
    "        validation_data_dir,\n",
    "        target_size=(150, 150),\n",
    "        batch_size=20,\n",
    "        class_mode='binary')"
   ]
  },
  {
   "cell_type": "markdown",
   "metadata": {},
   "source": [
    "### Network"
   ]
  },
  {
   "cell_type": "code",
   "execution_count": 11,
   "metadata": {},
   "outputs": [
    {
     "name": "stdout",
     "output_type": "stream",
     "text": [
      "_________________________________________________________________\n",
      "Layer (type)                 Output Shape              Param #   \n",
      "=================================================================\n",
      "conv2d_1 (Conv2D)            (None, 148, 148, 32)      896       \n",
      "_________________________________________________________________\n",
      "max_pooling2d_1 (MaxPooling2 (None, 74, 74, 32)        0         \n",
      "_________________________________________________________________\n",
      "conv2d_2 (Conv2D)            (None, 72, 72, 64)        18496     \n",
      "_________________________________________________________________\n",
      "max_pooling2d_2 (MaxPooling2 (None, 36, 36, 64)        0         \n",
      "_________________________________________________________________\n",
      "conv2d_3 (Conv2D)            (None, 34, 34, 128)       73856     \n",
      "_________________________________________________________________\n",
      "max_pooling2d_3 (MaxPooling2 (None, 17, 17, 128)       0         \n",
      "_________________________________________________________________\n",
      "conv2d_4 (Conv2D)            (None, 15, 15, 128)       147584    \n",
      "_________________________________________________________________\n",
      "max_pooling2d_4 (MaxPooling2 (None, 7, 7, 128)         0         \n",
      "_________________________________________________________________\n",
      "flatten_1 (Flatten)          (None, 6272)              0         \n",
      "_________________________________________________________________\n",
      "dense_1 (Dense)              (None, 512)               3211776   \n",
      "_________________________________________________________________\n",
      "dense_2 (Dense)              (None, 1)                 513       \n",
      "=================================================================\n",
      "Total params: 3,453,121\n",
      "Trainable params: 3,453,121\n",
      "Non-trainable params: 0\n",
      "_________________________________________________________________\n"
     ]
    }
   ],
   "source": [
    "from keras import models\n",
    "from keras import layers\n",
    "\n",
    "dogs_cats_model = models.Sequential()\n",
    "dogs_cats_model.add(layers.Conv2D(32, (3, 3), activation='relu', input_shape=(150, 150, 3)))\n",
    "dogs_cats_model.add(layers.MaxPooling2D((2, 2)))\n",
    "dogs_cats_model.add(layers.Conv2D(64, (3, 3), activation='relu'))\n",
    "dogs_cats_model.add(layers.MaxPooling2D((2, 2)))\n",
    "dogs_cats_model.add(layers.Conv2D(128, (3, 3), activation='relu'))\n",
    "dogs_cats_model.add(layers.MaxPooling2D((2, 2)))\n",
    "dogs_cats_model.add(layers.Conv2D(128, (3, 3), activation='relu'))\n",
    "dogs_cats_model.add(layers.MaxPooling2D((2, 2)))\n",
    "dogs_cats_model.add(layers.Flatten())\n",
    "dogs_cats_model.add(layers.Dense(512, activation='relu'))\n",
    "dogs_cats_model.add(layers.Dense(1, activation='sigmoid'))\n",
    "\n",
    "dogs_cats_model.compile(optimizer='rmsprop',\n",
    "              loss='binary_crossentropy',\n",
    "              metrics=['acc'])\n",
    "\n",
    "dogs_cats_model.summary()\n"
   ]
  },
  {
   "cell_type": "markdown",
   "metadata": {},
   "source": [
    "### Training & Evaluation"
   ]
  },
  {
   "cell_type": "code",
   "execution_count": 12,
   "metadata": {},
   "outputs": [
    {
     "name": "stdout",
     "output_type": "stream",
     "text": [
      "Epoch 1/15\n",
      "100/100 [==============================] - 36s 362ms/step - loss: 0.7778 - acc: 0.5200 - val_loss: 0.7625 - val_acc: 0.5000\n",
      "Epoch 2/15\n",
      "100/100 [==============================] - 34s 337ms/step - loss: 0.6957 - acc: 0.5660 - val_loss: 0.6445 - val_acc: 0.6170\n",
      "Epoch 3/15\n",
      "100/100 [==============================] - 36s 358ms/step - loss: 0.6469 - acc: 0.6425 - val_loss: 0.6495 - val_acc: 0.6370\n",
      "Epoch 4/15\n",
      "100/100 [==============================] - 34s 344ms/step - loss: 0.6005 - acc: 0.6850 - val_loss: 0.6218 - val_acc: 0.6480\n",
      "Epoch 5/15\n",
      "100/100 [==============================] - 33s 335ms/step - loss: 0.5660 - acc: 0.7180 - val_loss: 0.6176 - val_acc: 0.6830\n",
      "Epoch 6/15\n",
      "100/100 [==============================] - 40s 402ms/step - loss: 0.5367 - acc: 0.7340 - val_loss: 0.6720 - val_acc: 0.7050\n",
      "Epoch 7/15\n",
      "100/100 [==============================] - 60s 597ms/step - loss: 0.4820 - acc: 0.7560 - val_loss: 0.6148 - val_acc: 0.7020\n",
      "Epoch 8/15\n",
      "100/100 [==============================] - 50s 502ms/step - loss: 0.4490 - acc: 0.7915 - val_loss: 0.5927 - val_acc: 0.7080\n",
      "Epoch 9/15\n",
      "100/100 [==============================] - 43s 426ms/step - loss: 0.3890 - acc: 0.8225 - val_loss: 0.6998 - val_acc: 0.7090\n",
      "Epoch 10/15\n",
      "100/100 [==============================] - 44s 442ms/step - loss: 0.3295 - acc: 0.8610 - val_loss: 0.6634 - val_acc: 0.7140\n",
      "Epoch 11/15\n",
      "100/100 [==============================] - 43s 435ms/step - loss: 0.2618 - acc: 0.8940 - val_loss: 0.6882 - val_acc: 0.7330\n",
      "Epoch 12/15\n",
      "100/100 [==============================] - 44s 436ms/step - loss: 0.1955 - acc: 0.9250 - val_loss: 0.9000 - val_acc: 0.7140\n",
      "Epoch 13/15\n",
      "100/100 [==============================] - 48s 478ms/step - loss: 0.1640 - acc: 0.9390 - val_loss: 1.1309 - val_acc: 0.7220\n",
      "Epoch 14/15\n",
      "100/100 [==============================] - 49s 490ms/step - loss: 0.1389 - acc: 0.9435 - val_loss: 1.2286 - val_acc: 0.7160\n",
      "Epoch 15/15\n",
      "100/100 [==============================] - 42s 423ms/step - loss: 0.1099 - acc: 0.9600 - val_loss: 1.6738 - val_acc: 0.7040\n"
     ]
    }
   ],
   "source": [
    "history = dogs_cats_model.fit_generator(\n",
    "        train_generator,\n",
    "        steps_per_epoch=100,\n",
    "        epochs=15,\n",
    "        validation_data=validation_generator,\n",
    "        validation_steps=50)\n",
    "\n",
    "dogs_cats_model.save('dogs_cats_model.h5')"
   ]
  },
  {
   "cell_type": "code",
   "execution_count": 14,
   "metadata": {},
   "outputs": [
    {
     "name": "stdout",
     "output_type": "stream",
     "text": [
      "{'val_loss': [0.7625086164474487, 0.6445223730802536, 0.6494786179065705, 0.6218489104509354, 0.6176143306493759, 0.6719687837362289, 0.6148334807157516, 0.5926605069637298, 0.6998216077685356, 0.6634021809697151, 0.6881699937582016, 0.899953824877739, 1.1308806604146957, 1.2286440712213516, 1.6737635123729706], 'val_acc': [0.5000000017881393, 0.617000002861023, 0.6369999998807907, 0.6479999995231629, 0.6829999977350235, 0.7049999988079071, 0.7020000016689301, 0.70799999833107, 0.7090000021457672, 0.7139999973773956, 0.7329999995231629, 0.7139999961853027, 0.7219999986886978, 0.716000006198883, 0.7040000009536743], 'loss': [0.77779591858387, 0.6956628715991974, 0.6469001087546349, 0.6004784065485, 0.5659945777058601, 0.5367180591821671, 0.48204097971320153, 0.44895784348249435, 0.38899890646338464, 0.32954890735447406, 0.2617918970249593, 0.19545536618679762, 0.16404785895720125, 0.138933995035477, 0.10994479552377015], 'acc': [0.5199999997019767, 0.5659999990463257, 0.6425000041723251, 0.6849999985098839, 0.7180000025033951, 0.7340000015497208, 0.7559999990463256, 0.7915000009536743, 0.8224999976158142, 0.8609999960660935, 0.8939999979734421, 0.9249999898672104, 0.9389999932050705, 0.9434999960660935, 0.9599999946355819]}\n",
      "Type of history object >> <class 'keras.callbacks.History'>\n",
      "History Keys >> dict_keys(['val_loss', 'val_acc', 'loss', 'acc'])\n",
      "Validation Accuracy  >> [0.5000000017881393, 0.617000002861023, 0.6369999998807907, 0.6479999995231629, 0.6829999977350235, 0.7049999988079071, 0.7020000016689301, 0.70799999833107, 0.7090000021457672, 0.7139999973773956, 0.7329999995231629, 0.7139999961853027, 0.7219999986886978, 0.716000006198883, 0.7040000009536743]\n",
      "[0.5000000017881393, 0.617000002861023, 0.6369999998807907, 0.6479999995231629, 0.6829999977350235, 0.7049999988079071, 0.7020000016689301, 0.70799999833107, 0.7090000021457672, 0.7139999973773956, 0.7329999995231629, 0.7139999961853027, 0.7219999986886978, 0.716000006198883, 0.7040000009536743]\n"
     ]
    },
    {
     "data": {
      "image/png": "[encoded data removed]",
      "text/plain": [
       "<Figure size 432x288 with 1 Axes>"
      ]
     },
     "metadata": {},
     "output_type": "display_data"
    }
   ],
   "source": [
    "print(history.history)\n",
    "import matplotlib.pyplot as plt\n",
    "\n",
    "print(f\"Type of history object >> {type(history)}\")\n",
    "print(f\"History Keys >> {history.history.keys()}\")\n",
    "\n",
    "print(f\"Validation Accuracy  >> {history.history['val_acc']}\")\n",
    "print((history.history['val_acc']))\n",
    "\n",
    "acc_values = history.history['acc']\n",
    "val_acc_values = history.history['val_acc']\n",
    "epochs = range(1, len(acc_values) + 1)\n",
    "\n",
    "plt.clf()\n",
    "plt.plot(epochs, acc_values, 'bo', label='Training acc')\n",
    "plt.plot(epochs, val_acc_values, 'b', label='Validation acc')\n",
    "plt.title('Training and validation accuracy')\n",
    "plt.xlabel('Epochs')\n",
    "plt.ylabel('Accuracy')\n",
    "plt.legend()\n",
    "plt.show()"
   ]
  },
  {
   "cell_type": "code",
   "execution_count": 15,
   "metadata": {},
   "outputs": [
    {
     "data": {
      "image/png": "[encoded data removed]",
      "text/plain": [
       "<Figure size 432x288 with 1 Axes>"
      ]
     },
     "metadata": {},
     "output_type": "display_data"
    }
   ],
   "source": [
    "loss_values = history.history['loss']\n",
    "val_loss_values = history.history['val_loss']\n",
    "epochs = range(1, len(loss_values) + 1)\n",
    "\n",
    "plt.clf()\n",
    "plt.plot(epochs, loss_values, 'bo', label='Training loss')\n",
    "plt.plot(epochs, val_loss_values, 'b', label='Validation loss')\n",
    "plt.title('Training and validation loss')\n",
    "plt.xlabel('Epochs')\n",
    "plt.ylabel('Loss')\n",
    "plt.legend()\n",
    "plt.show()"
   ]
  },
  {
   "cell_type": "code",
   "execution_count": null,
   "metadata": {},
   "outputs": [],
   "source": []
  }
 ],
 "metadata": {
  "kernelspec": {
   "display_name": "Python 3",
   "language": "python",
   "name": "python3"
  },
  "language_info": {
   "codemirror_mode": {
    "name": "ipython",
    "version": 3
   },
   "file_extension": ".py",
   "mimetype": "text/x-python",
   "name": "python",
   "nbconvert_exporter": "python",
   "pygments_lexer": "ipython3",
   "version": "3.6.5"
  },
  "latex_envs": {
   "LaTeX_envs_menu_present": true,
   "autoclose": false,
   "autocomplete": true,
   "bibliofile": "biblio.bib",
   "cite_by": "apalike",
   "current_citInitial": 1,
   "eqLabelWithNumbers": true,
   "eqNumInitial": 1,
   "hotkeys": {
    "equation": "Ctrl-E",
    "itemize": "Ctrl-I"
   },
   "labels_anchors": false,
   "latex_user_defs": false,
   "report_style_numbering": false,
   "user_envs_cfg": false
  }
 },
 "nbformat": 4,
 "nbformat_minor": 2
}
