{
 "cells": [
  {
   "cell_type": "markdown",
   "metadata": {},
   "source": [
    "## Multi Class Classification NN - Reuters"
   ]
  },
  {
   "cell_type": "markdown",
   "metadata": {},
   "source": [
    "### Data Exploration"
   ]
  },
  {
   "cell_type": "code",
   "execution_count": 1,
   "metadata": {},
   "outputs": [
    {
     "name": "stderr",
     "output_type": "stream",
     "text": [
      "/home/jay/anaconda3/lib/python3.6/site-packages/h5py/__init__.py:36: FutureWarning: Conversion of the second argument of issubdtype from `float` to `np.floating` is deprecated. In future, it will be treated as `np.float64 == np.dtype(float).type`.\n",
      "  from ._conv import register_converters as _register_converters\n",
      "Using TensorFlow backend.\n"
     ]
    }
   ],
   "source": [
    "from keras.datasets import reuters\n",
    "\n",
    "(reuters_train_data, reuters_train_labels), (reuters_test_data, reuters_test_labels) = reuters.load_data(path=\"reuters.npz\",\n",
    "                                                         num_words=10000,\n",
    "                                                         skip_top=0,\n",
    "                                                         maxlen=None,\n",
    "                                                         test_split=0.2,\n",
    "                                                         seed=113,\n",
    "                                                         start_char=1,\n",
    "                                                         oov_char=2,\n",
    "                                                         index_from=3)\n",
    "\n",
    "# test_split: float. Fraction of the dataset to be used as test data."
   ]
  },
  {
   "cell_type": "code",
   "execution_count": 3,
   "metadata": {},
   "outputs": [
    {
     "name": "stdout",
     "output_type": "stream",
     "text": [
      "dim/rank/ no of axes of train_data >> 1\n",
      "shape of train_data>> (8982,)\n",
      "\n",
      "\n",
      "Type of train_data first element >> <class 'list'>\n",
      "Size of train_data first element >> 87\n",
      "First Element train_data>> [1, 2, 2, 8, 43, 10, 447, 5, 25, 207, 270, 5, 3095, 111, 16, 369, 186, 90, 67, 7, 89, 5, 19, 102, 6, 19, 124, 15, 90, 67, 84, 22, 482, 26, 7, 48, 4, 49, 8, 864, 39, 209, 154, 6, 151, 6, 83, 11, 15, 22, 155, 11, 15, 7, 48, 9, 4579, 1005, 504, 6, 258, 6, 272, 11, 15, 22, 134, 44, 11, 15, 16, 8, 197, 1245, 90, 67, 52, 29, 209, 30, 32, 132, 6, 109, 15, 17, 12]\n",
      "\n",
      "\n",
      "dim/rank/ no of axes of train_labels >> 1\n",
      "shape of train_labels>> (8982,)\n",
      "\n",
      "\n",
      "Type of train_labels >> <class 'numpy.ndarray'>\n",
      "Type of train_labels first element >> <class 'numpy.int64'>\n",
      "Size of train_labels>> 8982\n",
      "Head of train_labels>> [ 3  4  3  4  4  4  4  3  3 16]\n"
     ]
    }
   ],
   "source": [
    "print(f\"dim/rank/ no of axes of train_data >> {reuters_train_data.ndim}\")\n",
    "print(f\"shape of train_data>> {reuters_train_data.shape}\")\n",
    "\n",
    "print('\\n')\n",
    "print(f\"Type of train_data first element >> {type(reuters_train_data[0])}\")\n",
    "print(f\"Size of train_data first element >> {(len(reuters_train_data[0]))}\")\n",
    "print(f\"First Element train_data>> {reuters_train_data[0][0:218]}\")\n",
    "print('\\n')\n",
    "print(f\"dim/rank/ no of axes of train_labels >> {reuters_train_labels.ndim}\")\n",
    "print(f\"shape of train_labels>> {reuters_train_labels.shape}\")\n",
    "\n",
    "print('\\n')\n",
    "\n",
    "print(f\"Type of train_labels >> {type(reuters_train_labels)}\")\n",
    "print(f\"Type of train_labels first element >> {type(reuters_train_labels[0])}\")\n",
    "print(f\"Size of train_labels>> {(len(reuters_train_labels))}\")\n",
    "print(f\"Head of train_labels>> {(reuters_train_labels)[0:10]}\")"
   ]
  },
  {
   "cell_type": "markdown",
   "metadata": {},
   "source": [
    "#### Content Exploration - Pandas"
   ]
  },
  {
   "cell_type": "code",
   "execution_count": 4,
   "metadata": {},
   "outputs": [
    {
     "name": "stdout",
     "output_type": "stream",
     "text": [
      "    0\n",
      "0   3\n",
      "1  10\n",
      "2   1\n",
      "3   4\n",
      "4   4\n",
      "   0\n",
      "0  3\n",
      "1  4\n",
      "2  3\n",
      "3  4\n",
      "4  4\n"
     ]
    }
   ],
   "source": [
    "import pandas as pd\n",
    "print (pd.DataFrame(reuters_test_labels).head())\n",
    "print (pd.DataFrame(reuters_train_labels).head())"
   ]
  },
  {
   "cell_type": "markdown",
   "metadata": {},
   "source": [
    "#### Content Exploration"
   ]
  },
  {
   "cell_type": "code",
   "execution_count": 5,
   "metadata": {},
   "outputs": [
    {
     "name": "stdout",
     "output_type": "stream",
     "text": [
      "\n",
      "\n",
      "Type of word index >> <class 'dict'>\n",
      "Observing samples of word index key value pair >> \n",
      "Length of dict/ Number of words >> 30979\n",
      "['mdbl', 'fawc', 'degussa', 'woods', 'hanging']\n",
      "[10996, 16260, 12089, 8803, 13796]\n",
      "\n",
      "\n",
      "the of of mln loss for plc said at only ended said commonwealth could 1 traders now april 0 a after said from 1985 and from foreign 000 april 0 prices its account year a but in this mln home an states earlier and rise and revs vs 000 its 16 vs 000 a but 3 psbr oils several and shareholders and dividend vs 000 its all 4 vs 000 1 mln agreed largely april 0 are 2 states will billion total and against 000 pct dlrs \n",
      "\n",
      "the termination payment airport takes 6 of geological 3 6 602 begin up said fully bank expects commodity total is giant a of this takes of series termination payment airport mln a for capital 1 pre 50 american east said in council takes of of france a but u any 4 s 1st losses pct dlrs \n",
      "\n",
      "the lt dlrs demand 000 reuter dividend year lt plus billion 04 000 reuter dividend year an worth new vs reuter dlrs warburg on shrs earnings countries new vs reuter 1985 billion vs 2 lt 4 division 000 reuter from go 000 lt plus which mid 000 reuter from total 000 an 71 billion vs reuter dlr also vs shrs earnings countries 4 vs reuter 1985 from vs some now april 0 related in corp it inc strong cents dollar were after april 0 crisis or ontario more index 10 electric company taking report it in estimated but trading texas said united said came a of up said countries vs 000 3 delayed central said which objections on future 617 said came a includes of profit said meeting trade vs 3 of up said 1985 were vs pct dlrs "
     ]
    }
   ],
   "source": [
    "reuters_word_index:dict = reuters.get_word_index(path=\"reuters_word_index.json\")\n",
    "print('\\n')\n",
    "print(f\"Type of word index >> {type(reuters_word_index)}\")\n",
    "print('Observing samples of word index key value pair >> ')\n",
    "print(f\"Length of dict/ Number of words >> {len(reuters_word_index.keys())}\")\n",
    "print(list(reuters_word_index.keys())[0:5])\n",
    "print(list(reuters_word_index.values())[0:5])\n",
    "\n",
    "print('\\n')\n",
    "reuters_reverse_word_index :dict = {}\n",
    "for (k,v) in reuters_word_index.items():\n",
    "    reuters_reverse_word_index[v] = k\n",
    "\n",
    "for element in reuters_train_data[0]:\n",
    "    print(reuters_reverse_word_index[element],end=\" \")\n",
    "    \n",
    "print('\\n')\n",
    "for element in reuters_train_data[1]:\n",
    "    print(reuters_reverse_word_index[element],end=\" \")\n",
    "    \n",
    "print('\\n')    \n",
    "for element in reuters_train_data[2]:\n",
    "    print(reuters_reverse_word_index[element],end=\" \")"
   ]
  },
  {
   "cell_type": "markdown",
   "metadata": {},
   "source": [
    "### Data Preprocessing"
   ]
  },
  {
   "cell_type": "markdown",
   "metadata": {},
   "source": [
    "#### One-Hot Encoding - Data"
   ]
  },
  {
   "cell_type": "code",
   "execution_count": 6,
   "metadata": {},
   "outputs": [
    {
     "name": "stdout",
     "output_type": "stream",
     "text": [
      "\n",
      "First Review Before Encode >> [1, 2, 2, 8, 43, 10, 447, 5, 25, 207, 270, 5, 3095, 111, 16, 369, 186, 90, 67, 7, 89, 5, 19, 102, 6, 19, 124, 15, 90, 67, 84, 22, 482, 26, 7, 48, 4, 49, 8, 864, 39, 209, 154, 6, 151, 6, 83, 11, 15, 22, 155, 11, 15, 7, 48, 9, 4579, 1005, 504, 6, 258, 6, 272, 11, 15, 22, 134, 44, 11, 15, 16, 8, 197, 1245, 90, 67, 52, 29, 209, 30, 32, 132, 6, 109, 15, 17, 12]\n",
      "Slice of First Review After Encode >> [0 1 1 0 1 1 1 1 1 1 1 1 1 0 0 1 1 1 0 1 0 0 1 0 0 1 1 0 0 1 1 0 1 0 0 0 0\n",
      " 0 0 1 0 0 0 1 1 0 0 0 1 1 0 0 1 0 0 0 0 0 0 0 0 0 0 0 0 0 0 1 0 0]\n",
      "Shape of Preprocessed Train Data >> (8982, 10000)\n",
      "Shape of Preprocessed Test Data >> (2246, 10000)\n",
      "   0     1     2     3     4     5     6     7     8     9     ...   9990  \\\n",
      "0     0     1     1     0     1     1     1     1     1     1  ...      0   \n",
      "1     0     1     1     0     1     1     0     1     1     1  ...      0   \n",
      "2     0     1     1     0     1     1     0     1     0     1  ...      0   \n",
      "3     0     1     1     0     1     1     1     1     1     0  ...      0   \n",
      "4     0     1     1     0     1     1     1     1     1     1  ...      0   \n",
      "\n",
      "   9991  9992  9993  9994  9995  9996  9997  9998  9999  \n",
      "0     0     0     0     0     0     0     0     0     0  \n",
      "1     0     0     0     0     0     0     0     0     0  \n",
      "2     0     0     0     0     0     0     0     0     0  \n",
      "3     0     0     0     0     0     0     0     0     0  \n",
      "4     0     0     0     0     0     0     0     0     0  \n",
      "\n",
      "[5 rows x 10000 columns]\n",
      "   0     1     2     3     4     5     6     7     8     9     ...   9990  \\\n",
      "0     0     1     1     0     1     1     1     1     1     1  ...      0   \n",
      "1     0     1     1     0     1     1     1     1     1     1  ...      0   \n",
      "2     0     1     1     0     1     1     1     1     1     1  ...      0   \n",
      "3     0     1     1     0     1     1     1     1     1     1  ...      0   \n",
      "4     0     1     1     0     1     1     1     1     1     1  ...      0   \n",
      "\n",
      "   9991  9992  9993  9994  9995  9996  9997  9998  9999  \n",
      "0     0     0     0     0     0     0     0     0     0  \n",
      "1     0     0     0     0     0     0     0     0     0  \n",
      "2     0     0     0     0     0     0     0     0     0  \n",
      "3     0     0     0     0     0     0     0     0     0  \n",
      "4     0     0     0     0     0     0     0     0     0  \n",
      "\n",
      "[5 rows x 10000 columns]\n"
     ]
    }
   ],
   "source": [
    "import numpy as np\n",
    "def reuters_one_hot_encode(data,no_of_words=10000):\n",
    "    encoded_data = np.zeros([data.size, no_of_words], dtype=int)\n",
    "    for i in range(data.size):\n",
    "        article:list = data[i]\n",
    "        for j in range(len(article)):\n",
    "            encoded_data[i,article[j]]= 1\n",
    "    return encoded_data\n",
    "\n",
    "reuters_prep_train_data= reuters_one_hot_encode(data=reuters_train_data,no_of_words=10000)\n",
    "reuters_prep_test_data= reuters_one_hot_encode(data=reuters_test_data,no_of_words=10000)\n",
    "\n",
    "print()\n",
    "print(f\"First Review Before Encode >> {reuters_train_data[0]}\")\n",
    "print(f\"Slice of First Review After Encode >> {reuters_prep_train_data[0,0:70]}\")\n",
    "print(f\"Shape of Preprocessed Train Data >> {reuters_prep_train_data.shape}\")\n",
    "print(f\"Shape of Preprocessed Test Data >> {reuters_prep_test_data.shape}\")\n",
    "\n",
    "import pandas as pd\n",
    "print (pd.DataFrame(reuters_prep_train_data).head())\n",
    "print (pd.DataFrame(reuters_prep_test_data).head())"
   ]
  },
  {
   "cell_type": "markdown",
   "metadata": {},
   "source": [
    "#### One-Hot Encoding - Labels"
   ]
  },
  {
   "cell_type": "code",
   "execution_count": 7,
   "metadata": {},
   "outputs": [
    {
     "name": "stdout",
     "output_type": "stream",
     "text": [
      "\n",
      "Type of Test Labels Before Encode >> <class 'numpy.ndarray'>\n",
      "Shape of Test Labels Before Encode >> (2246,)\n",
      "Shape of Train Labels Before Encode >> (8982,)\n",
      "   0   1   2   3   4   5   6   7   8   9  ...  36  37  38  39  40  41  42  43  \\\n",
      "0   0   0   0   1   0   0   0   0   0   0 ...   0   0   0   0   0   0   0   0   \n",
      "1   0   0   0   0   0   0   0   0   0   0 ...   0   0   0   0   0   0   0   0   \n",
      "2   0   1   0   0   0   0   0   0   0   0 ...   0   0   0   0   0   0   0   0   \n",
      "3   0   0   0   0   1   0   0   0   0   0 ...   0   0   0   0   0   0   0   0   \n",
      "4   0   0   0   0   1   0   0   0   0   0 ...   0   0   0   0   0   0   0   0   \n",
      "\n",
      "   44  45  \n",
      "0   0   0  \n",
      "1   0   0  \n",
      "2   0   0  \n",
      "3   0   0  \n",
      "4   0   0  \n",
      "\n",
      "[5 rows x 46 columns]\n",
      "   0   1   2   3   4   5   6   7   8   9  ...  36  37  38  39  40  41  42  43  \\\n",
      "0   0   0   0   1   0   0   0   0   0   0 ...   0   0   0   0   0   0   0   0   \n",
      "1   0   0   0   0   1   0   0   0   0   0 ...   0   0   0   0   0   0   0   0   \n",
      "2   0   0   0   1   0   0   0   0   0   0 ...   0   0   0   0   0   0   0   0   \n",
      "3   0   0   0   0   1   0   0   0   0   0 ...   0   0   0   0   0   0   0   0   \n",
      "4   0   0   0   0   1   0   0   0   0   0 ...   0   0   0   0   0   0   0   0   \n",
      "\n",
      "   44  45  \n",
      "0   0   0  \n",
      "1   0   0  \n",
      "2   0   0  \n",
      "3   0   0  \n",
      "4   0   0  \n",
      "\n",
      "[5 rows x 46 columns]\n"
     ]
    }
   ],
   "source": [
    "\n",
    "import numpy as np\n",
    "def reuters_one_hot_encode_labels(labels,no_of_words=46):\n",
    "    encoded_labels = np.zeros([labels.size, no_of_words], dtype=int)\n",
    "    #print(f\"encoded_labels >> {encoded_labels[0,0:20]}\")\n",
    "    for i in range(labels.size):\n",
    "        encoded_labels[i,labels[i]]= 1\n",
    "    return encoded_labels\n",
    "\n",
    "\n",
    "reuters_prep_test_labels= reuters_one_hot_encode_labels(labels=reuters_test_labels,no_of_words=46)\n",
    "reuters_prep_train_labels= reuters_one_hot_encode_labels(labels=reuters_train_labels,no_of_words=46)\n",
    "\n",
    "\n",
    "print()\n",
    "print(f\"Type of Test Labels Before Encode >> {type(reuters_test_labels)}\")\n",
    "print(f\"Shape of Test Labels Before Encode >> {reuters_test_labels.shape}\")\n",
    "print(f\"Shape of Train Labels Before Encode >> {reuters_train_labels.shape}\")\n",
    "\n",
    "\n",
    "import pandas as pd\n",
    "print (pd.DataFrame(reuters_prep_test_labels).head())\n",
    "print (pd.DataFrame(reuters_prep_train_labels).head())\n"
   ]
  },
  {
   "cell_type": "code",
   "execution_count": 8,
   "metadata": {},
   "outputs": [],
   "source": [
    "reuters_x_val_train_data = reuters_prep_train_data[0:1000]\n",
    "reuters_x_train_data = reuters_prep_train_data[1000:]\n",
    "\n",
    "reuters_y_val_train_labels = reuters_prep_train_labels[0:1000]\n",
    "reuters_y_train_labels = reuters_prep_train_labels[1000:]\n",
    "\n",
    "reuters_x_test_data = reuters_prep_test_data\n",
    "reuters_y_test_labels = reuters_prep_test_labels\n"
   ]
  },
  {
   "cell_type": "markdown",
   "metadata": {},
   "source": [
    "### Training"
   ]
  },
  {
   "cell_type": "markdown",
   "metadata": {},
   "source": [
    "#### Model Building"
   ]
  },
  {
   "cell_type": "code",
   "execution_count": 9,
   "metadata": {},
   "outputs": [],
   "source": [
    "from keras import models\n",
    "from keras import layers\n",
    "\n",
    "reuters_model = models.Sequential()\n",
    "reuters_model.add(layers.Dense(64, activation='relu', input_shape=(10000,)))\n",
    "reuters_model.add(layers.Dense(64, activation='relu'))\n",
    "reuters_model.add(layers.Dense(46, activation='softmax'))\n",
    "\n",
    "\n",
    "reuters_model.compile(optimizer='rmsprop',\n",
    "              loss='categorical_crossentropy',\n",
    "              metrics=['accuracy'])\n",
    "\n",
    "reuters_history = reuters_model.fit(x=reuters_x_train_data,\n",
    "                    y=reuters_y_train_labels,\n",
    "                    batch_size=512,\n",
    "                    epochs=20,\n",
    "                    verbose=0,\n",
    "                    validation_data=(reuters_x_val_train_data,reuters_y_val_train_labels))"
   ]
  },
  {
   "cell_type": "markdown",
   "metadata": {},
   "source": [
    "#### Model Visualisation"
   ]
  },
  {
   "cell_type": "code",
   "execution_count": 10,
   "metadata": {},
   "outputs": [
    {
     "name": "stdout",
     "output_type": "stream",
     "text": [
      "Type of history object >> <class 'keras.callbacks.History'>\n",
      "History Keys >> dict_keys(['val_loss', 'val_acc', 'loss', 'acc'])\n",
      "[0.49599097982381285, 0.6880481086766561, 0.7645953385879509, 0.8167126028348377, 0.8490353302530286, 0.8802305176663715, 0.905412177085518, 0.9238286149498813, 0.9313455267347988, 0.9412427972624159, 0.9473816075291558, 0.9507642197776217, 0.9526434482353667, 0.9557754942660521, 0.955775494848508, 0.9559007760457484, 0.957278878250925, 0.9576547232166445, 0.9594086689089988, 0.959909796445957]\n"
     ]
    },
    {
     "data": {
      "text/plain": [
       "<Figure size 640x480 with 1 Axes>"
      ]
     },
     "metadata": {},
     "output_type": "display_data"
    }
   ],
   "source": [
    "import matplotlib.pyplot as plt\n",
    "\n",
    "print(f\"Type of history object >> {type(reuters_history)}\")\n",
    "print(f\"History Keys >> {reuters_history.history.keys()}\")\n",
    "print((reuters_history.history['acc']))\n",
    "\n",
    "acc_values = reuters_history.history['acc']\n",
    "val_acc_values = reuters_history.history['val_acc']\n",
    "epochs = range(1, len(acc_values) + 1)\n",
    "\n",
    "plt.clf()\n",
    "plt.plot(epochs, acc_values, 'bo', label='Training acc')\n",
    "plt.plot(epochs, val_acc_values, 'b', label='Validation acc')\n",
    "plt.title('Training and validation accuracy')\n",
    "plt.xlabel('Epochs')\n",
    "plt.ylabel('Loss')\n",
    "plt.legend()\n",
    "plt.show()\n"
   ]
  },
  {
   "cell_type": "code",
   "execution_count": 11,
   "metadata": {},
   "outputs": [
    {
     "data": {
      "image/png": "[encoded data removed]",
      "text/plain": [
       "<Figure size 432x288 with 1 Axes>"
      ]
     },
     "metadata": {},
     "output_type": "display_data"
    }
   ],
   "source": [
    "loss_values = reuters_history.history['loss']\n",
    "val_loss_values = reuters_history.history['val_loss']\n",
    "epochs = range(1, len(loss_values) + 1)\n",
    "\n",
    "plt.clf()\n",
    "plt.plot(epochs, loss_values, 'bo', label='Training loss')\n",
    "plt.plot(epochs, val_loss_values, 'b', label='Validation loss')\n",
    "plt.title('Training and validation loss')\n",
    "plt.xlabel('Epochs')\n",
    "plt.ylabel('Loss')\n",
    "plt.legend()\n",
    "plt.show()\n"
   ]
  },
  {
   "cell_type": "markdown",
   "metadata": {},
   "source": [
    "### Testing"
   ]
  },
  {
   "cell_type": "markdown",
   "metadata": {},
   "source": [
    "#### Prediction"
   ]
  },
  {
   "cell_type": "code",
   "execution_count": 12,
   "metadata": {},
   "outputs": [
    {
     "name": "stdout",
     "output_type": "stream",
     "text": [
      "Type of results object >> <class 'numpy.ndarray'>\n",
      "NDim of results object >> 2\n",
      "Shape of results object >> (2246, 46)\n",
      "[[1.03244372e-06 8.83560062e-07 5.50000001e-09 ... 2.95477798e-09\n",
      "  9.84580861e-10 1.09985521e-09]\n",
      " [5.79718850e-04 2.71197851e-03 3.02110578e-07 ... 9.87854065e-09\n",
      "  8.23253632e-10 9.76922274e-06]\n",
      " [2.31068656e-02 8.78008485e-01 4.59660223e-04 ... 4.89597005e-06\n",
      "  2.07372682e-06 3.10176110e-05]\n",
      " ...\n",
      " [2.14568274e-07 1.53669669e-06 6.24842684e-08 ... 1.79733006e-09\n",
      "  1.13601475e-08 2.04953277e-09]\n",
      " [2.17771484e-03 1.42026722e-01 3.15064273e-04 ... 2.57475676e-05\n",
      "  1.10368990e-06 2.36054802e-06]\n",
      " [6.89421431e-05 6.96897864e-01 2.24178266e-02 ... 2.04988979e-07\n",
      "  1.09187825e-09 1.34495269e-06]]\n",
      "\n",
      "Compare Predicted & Real  Labels: \n",
      "\n",
      "First 10 Predicted Labels >> 3 10 1 4 13 3 3 3 3 3 \n",
      "First 10 Original Labels >> [ 3 10  1  4  4  3  3  3  3  3]\n"
     ]
    }
   ],
   "source": [
    "reuters_results = reuters_model.predict(reuters_x_test_data)\n",
    "print(f\"Type of results object >> {type(reuters_results)}\")\n",
    "print(f\"NDim of results object >> {reuters_results.ndim}\")\n",
    "print(f\"Shape of results object >> {reuters_results.shape}\")\n",
    "print(reuters_results)\n",
    "\n",
    "print(\"\\nCompare Predicted & Real  Labels: \\n\")\n",
    "print(f\"First 10 Predicted Labels >>\", end = \" \")\n",
    "for i in range(10):\n",
    "    print(np.argmax(reuters_results[i]), end = \" \")\n",
    "\n",
    "print(f\"\\nFirst 10 Original Labels >> {(reuters_test_labels)[0:10]}\")"
   ]
  },
  {
   "cell_type": "markdown",
   "metadata": {},
   "source": [
    "#### Evaluation"
   ]
  },
  {
   "cell_type": "code",
   "execution_count": 13,
   "metadata": {},
   "outputs": [
    {
     "name": "stdout",
     "output_type": "stream",
     "text": [
      "2246/2246 [==============================] - 0s 222us/step\n"
     ]
    },
    {
     "ename": "NameError",
     "evalue": "name 'model' is not defined",
     "output_type": "error",
     "traceback": [
      "\u001b[0;31m---------------------------------------------------------------------------\u001b[0m",
      "\u001b[0;31mNameError\u001b[0m                                 Traceback (most recent call last)",
      "\u001b[0;32m<ipython-input-13-0d573a8d24f0>\u001b[0m in \u001b[0;36m<module>\u001b[0;34m()\u001b[0m\n\u001b[1;32m      1\u001b[0m \u001b[0mreuters_score\u001b[0m \u001b[0;34m=\u001b[0m \u001b[0mreuters_model\u001b[0m\u001b[0;34m.\u001b[0m\u001b[0mevaluate\u001b[0m\u001b[0;34m(\u001b[0m\u001b[0mx\u001b[0m\u001b[0;34m=\u001b[0m\u001b[0mreuters_x_test_data\u001b[0m\u001b[0;34m,\u001b[0m\u001b[0my\u001b[0m\u001b[0;34m=\u001b[0m\u001b[0mreuters_y_test_labels\u001b[0m\u001b[0;34m)\u001b[0m\u001b[0;34m\u001b[0m\u001b[0m\n\u001b[1;32m      2\u001b[0m \u001b[0;34m\u001b[0m\u001b[0m\n\u001b[0;32m----> 3\u001b[0;31m \u001b[0mprint\u001b[0m\u001b[0;34m(\u001b[0m\u001b[0mmodel\u001b[0m\u001b[0;34m.\u001b[0m\u001b[0mmetrics_names\u001b[0m\u001b[0;34m)\u001b[0m\u001b[0;34m\u001b[0m\u001b[0m\n\u001b[0m\u001b[1;32m      4\u001b[0m \u001b[0mprint\u001b[0m\u001b[0;34m(\u001b[0m\u001b[0;34mf\"The accuracy of the model >> {reuters_score[1]}\"\u001b[0m\u001b[0;34m)\u001b[0m\u001b[0;34m\u001b[0m\u001b[0m\n",
      "\u001b[0;31mNameError\u001b[0m: name 'model' is not defined"
     ]
    }
   ],
   "source": [
    "reuters_score = reuters_model.evaluate(x=reuters_x_test_data,y=reuters_y_test_labels)\n",
    "\n",
    "print(model.metrics_names)\n",
    "print(f\"The accuracy of the model >> {reuters_score[1]}\")"
   ]
  },
  {
   "cell_type": "code",
   "execution_count": null,
   "metadata": {},
   "outputs": [],
   "source": []
  }
 ],
 "metadata": {
  "kernelspec": {
   "display_name": "Python 3",
   "language": "python",
   "name": "python3"
  },
  "language_info": {
   "codemirror_mode": {
    "name": "ipython",
    "version": 3
   },
   "file_extension": ".py",
   "mimetype": "text/x-python",
   "name": "python",
   "nbconvert_exporter": "python",
   "pygments_lexer": "ipython3",
   "version": "3.6.5"
  },
  "latex_envs": {
   "LaTeX_envs_menu_present": true,
   "autoclose": false,
   "autocomplete": true,
   "bibliofile": "biblio.bib",
   "cite_by": "apalike",
   "current_citInitial": 1,
   "eqLabelWithNumbers": true,
   "eqNumInitial": 1,
   "hotkeys": {
    "equation": "Ctrl-E",
    "itemize": "Ctrl-I"
   },
   "labels_anchors": false,
   "latex_user_defs": false,
   "report_style_numbering": false,
   "user_envs_cfg": false
  }
 },
 "nbformat": 4,
 "nbformat_minor": 2
}
