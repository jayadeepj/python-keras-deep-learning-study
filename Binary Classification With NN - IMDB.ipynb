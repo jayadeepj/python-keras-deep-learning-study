{
 "cells": [
  {
   "cell_type": "markdown",
   "metadata": {},
   "source": [
    "## Binary Classification With NN - IMDB"
   ]
  },
  {
   "cell_type": "markdown",
   "metadata": {},
   "source": [
    "### Data Exploration"
   ]
  },
  {
   "cell_type": "code",
   "execution_count": 10,
   "metadata": {},
   "outputs": [],
   "source": [
    "from keras.datasets import imdb\n",
    "\n",
    "# num_words = how many of the top occuring words to keep in the word_index/dictionary\n",
    "# maxlen = how many words from each review to consider. only words that belong to the  above word index will be considered\n",
    "\n",
    "(train_data, train_labels), (test_data, test_labels) = imdb.load_data(path=\"imdb.npz\",\n",
    "                                                      num_words=10000,\n",
    "                                                      skip_top=0,\n",
    "                                                      maxlen=None,\n",
    "                                                      seed=113,\n",
    "                                                      start_char=1,\n",
    "                                                      oov_char=2,\n",
    "                                                      index_from=3)"
   ]
  },
  {
   "cell_type": "markdown",
   "metadata": {},
   "source": [
    "#### Structure Exploration"
   ]
  },
  {
   "cell_type": "code",
   "execution_count": 11,
   "metadata": {},
   "outputs": [
    {
     "name": "stdout",
     "output_type": "stream",
     "text": [
      "dim/rank/ no of axes of train_data >> 1\n",
      "shape of train_data>> (25000,)\n",
      "\n",
      "\n",
      "Type of train_data first element >> <class 'list'>\n",
      "Size of train_data first element >> 218\n",
      "First Element train_data>> [1, 14, 22, 16, 43, 530, 973, 1622, 1385, 65, 458, 4468, 66, 3941, 4, 173, 36, 256, 5, 25, 100, 43, 838, 112, 50, 670, 2, 9, 35, 480, 284, 5, 150, 4, 172, 112, 167, 2, 336, 385, 39, 4, 172, 4536, 1111, 17, 546, 38, 13, 447, 4, 192, 50, 16, 6, 147, 2025, 19, 14, 22, 4, 1920, 4613, 469, 4, 22, 71, 87, 12, 16, 43, 530, 38, 76, 15, 13, 1247, 4, 22, 17, 515, 17, 12, 16, 626, 18, 2, 5, 62, 386, 12, 8, 316, 8, 106, 5, 4, 2223, 5244, 16, 480, 66, 3785, 33, 4, 130, 12, 16, 38, 619, 5, 25, 124, 51, 36, 135, 48, 25, 1415, 33, 6, 22, 12, 215, 28, 77, 52, 5, 14, 407, 16, 82, 2, 8, 4, 107, 117, 5952, 15, 256, 4, 2, 7, 3766, 5, 723, 36, 71, 43, 530, 476, 26, 400, 317, 46, 7, 4, 2, 1029, 13, 104, 88, 4, 381, 15, 297, 98, 32, 2071, 56, 26, 141, 6, 194, 7486, 18, 4, 226, 22, 21, 134, 476, 26, 480, 5, 144, 30, 5535, 18, 51, 36, 28, 224, 92, 25, 104, 4, 226, 65, 16, 38, 1334, 88, 12, 16, 283, 5, 16, 4472, 113, 103, 32, 15, 16, 5345, 19, 178, 32]\n",
      "\n",
      "\n",
      "dim/rank/ no of axes of train_labels >> 1\n",
      "shape of train_labels>> (25000,)\n",
      "\n",
      "\n",
      "Type of train_labels >> <class 'numpy.ndarray'>\n",
      "Type of train_labels first element >> <class 'numpy.int64'>\n",
      "Size of train_labels>> 25000\n",
      "Head of train_labels>> [1 0 0 1 0]\n"
     ]
    }
   ],
   "source": [
    "print(f\"dim/rank/ no of axes of train_data >> {train_data.ndim}\")\n",
    "print(f\"shape of train_data>> {train_data.shape}\")\n",
    "\n",
    "print('\\n')\n",
    "print(f\"Type of train_data first element >> {type(train_data[0])}\")\n",
    "print(f\"Size of train_data first element >> {(len(train_data[0]))}\")\n",
    "print(f\"First Element train_data>> {train_data[0][0:218]}\")\n",
    "print('\\n')\n",
    "print(f\"dim/rank/ no of axes of train_labels >> {train_labels.ndim}\")\n",
    "print(f\"shape of train_labels>> {train_labels.shape}\")\n",
    "\n",
    "print('\\n')\n",
    "\n",
    "print(f\"Type of train_labels >> {type(train_labels)}\")\n",
    "print(f\"Type of train_labels first element >> {type(train_labels[0])}\")\n",
    "print(f\"Size of train_labels>> {(len(train_labels))}\")\n",
    "print(f\"Head of train_labels>> {(train_labels)[0:5]}\")\n",
    "\n",
    "#print(f\"First Element train_data>> {train_data[0][0:218]}\")"
   ]
  },
  {
   "cell_type": "markdown",
   "metadata": {},
   "source": [
    "#### Content Exploration"
   ]
  },
  {
   "cell_type": "code",
   "execution_count": 12,
   "metadata": {},
   "outputs": [
    {
     "name": "stdout",
     "output_type": "stream",
     "text": [
      "\n",
      "\n",
      "Type of word index >> <class 'dict'>\n",
      "Observing samples of word index key value pair >> \n",
      "['fawn', 'tsukino', 'nunnery', 'sonja', 'vani']\n",
      "[34701, 52006, 52007, 16816, 63951]\n",
      "\n",
      "\n",
      "the as you with out themselves powerful lets loves their becomes reaching had journalist of lot from anyone to have after out atmosphere never more room and it so heart shows to years of every never going and help moments or of every chest visual movie except her was several of enough more with is now current film as you of mine potentially unfortunately of you than him that with out themselves her get for was camp of you movie sometimes movie that with scary but and to story wonderful that in seeing in character to of 70s musicians with heart had shadows they of here that with her serious to have does when from why what have critics they is you that isn't one will very to as itself with other and in of seen over landed for anyone of and br show's to whether from than out themselves history he name half some br of and odd was two most of mean for 1 any an boat she he should is thought frog but of script you not while history he heart to real at barrel but when from one bit then have two of script their with her nobody most that with wasn't to with armed acting watch an for with heartfelt film want an "
     ]
    }
   ],
   "source": [
    "word_index:dict = imdb.get_word_index()\n",
    "print('\\n')\n",
    "print(f\"Type of word index >> {type(word_index)}\")\n",
    "print('Observing samples of word index key value pair >> ')\n",
    "print(list(word_index.keys())[0:5])\n",
    "print(list(word_index.values())[0:5])\n",
    "\n",
    "print('\\n')\n",
    "reverse_word_index :dict = {}\n",
    "for (k,v) in word_index.items():\n",
    "    reverse_word_index[v] = k\n",
    "\n",
    "for element in train_data[0]:\n",
    "    print(reverse_word_index[element],end=\" \")"
   ]
  },
  {
   "cell_type": "markdown",
   "metadata": {},
   "source": [
    "### Data Preprocessing"
   ]
  },
  {
   "cell_type": "markdown",
   "metadata": {},
   "source": [
    "#### One-Hot Encoding"
   ]
  },
  {
   "cell_type": "code",
   "execution_count": 13,
   "metadata": {},
   "outputs": [
    {
     "name": "stdout",
     "output_type": "stream",
     "text": [
      "\n",
      "First Review Before Encode >> [1, 14, 22, 16, 43, 530, 973, 1622, 1385, 65, 458, 4468, 66, 3941, 4, 173, 36, 256, 5, 25, 100, 43, 838, 112, 50, 670, 2, 9, 35, 480, 284, 5, 150, 4, 172, 112, 167, 2, 336, 385, 39, 4, 172, 4536, 1111, 17, 546, 38, 13, 447, 4, 192, 50, 16, 6, 147, 2025, 19, 14, 22, 4, 1920, 4613, 469, 4, 22, 71, 87, 12, 16, 43, 530, 38, 76, 15, 13, 1247, 4, 22, 17, 515, 17, 12, 16, 626, 18, 2, 5, 62, 386, 12, 8, 316, 8, 106, 5, 4, 2223, 5244, 16, 480, 66, 3785, 33, 4, 130, 12, 16, 38, 619, 5, 25, 124, 51, 36, 135, 48, 25, 1415, 33, 6, 22, 12, 215, 28, 77, 52, 5, 14, 407, 16, 82, 2, 8, 4, 107, 117, 5952, 15, 256, 4, 2, 7, 3766, 5, 723, 36, 71, 43, 530, 476, 26, 400, 317, 46, 7, 4, 2, 1029, 13, 104, 88, 4, 381, 15, 297, 98, 32, 2071, 56, 26, 141, 6, 194, 7486, 18, 4, 226, 22, 21, 134, 476, 26, 480, 5, 144, 30, 5535, 18, 51, 36, 28, 224, 92, 25, 104, 4, 226, 65, 16, 38, 1334, 88, 12, 16, 283, 5, 16, 4472, 113, 103, 32, 15, 16, 5345, 19, 178, 32]\n",
      "Slice of First Review After Encode >> [0 1 1 0 1 1 1 1 1 1 0 0 1 1 1 1 1 1 1 1 0 1 1 0 0 1 1 0 1 0 1 0 1 1 0 1 1\n",
      " 0 1 1 0 0 0 1 0 0 1 0 1 0 1 1 1 0 0 0 1 0 0 0 0 0 1 0 0 1 1 0 0 0]\n"
     ]
    }
   ],
   "source": [
    "import numpy as np\n",
    "def one_hot_encode(data,no_of_words=10000):\n",
    "    encoded_data = np.zeros([data.size, no_of_words], dtype=int)\n",
    "    for i in range(25000):\n",
    "        review_comment:list = data[i]\n",
    "        for j in range(len(review_comment)):\n",
    "            encoded_data[i,review_comment[j]]= 1\n",
    "    return encoded_data\n",
    "\n",
    "prep_train_data= one_hot_encode(data=train_data,no_of_words=10000)\n",
    "prep_test_data= one_hot_encode(data=test_data,no_of_words=10000)\n",
    "\n",
    "print()\n",
    "print(f\"First Review Before Encode >> {train_data[0]}\")\n",
    "print(f\"Slice of First Review After Encode >> {prep_train_data[0,0:70]}\")\n",
    "\n",
    "prep_train_labels = np.asarray(train_labels).astype('float32')\n",
    "prep_test_labels = np.asarray(test_labels).astype('float32')\n",
    "\n"
   ]
  },
  {
   "cell_type": "markdown",
   "metadata": {},
   "source": [
    "#### Creating Validation Dataset"
   ]
  },
  {
   "cell_type": "code",
   "execution_count": 14,
   "metadata": {},
   "outputs": [],
   "source": [
    "x_val_train_data = prep_train_data[0:10000]\n",
    "x_train_data = prep_train_data[10000:]\n",
    "\n",
    "y_val_train_labels = prep_train_labels[0:10000]\n",
    "y_train_labels = prep_train_labels[10000:]\n",
    "\n",
    "x_test_data = prep_test_data\n",
    "y_test_labels = prep_test_labels"
   ]
  },
  {
   "cell_type": "markdown",
   "metadata": {},
   "source": [
    "### Training"
   ]
  },
  {
   "cell_type": "markdown",
   "metadata": {},
   "source": [
    "#### Model Building"
   ]
  },
  {
   "cell_type": "code",
   "execution_count": 15,
   "metadata": {},
   "outputs": [],
   "source": [
    "from keras import models\n",
    "from keras import layers\n",
    "\n",
    "model = models.Sequential()\n",
    "model.add(layers.Dense(16, activation='relu', input_shape=(10000,)))\n",
    "model.add(layers.Dense(16, activation='relu'))\n",
    "model.add(layers.Dense(1, activation='sigmoid'))\n",
    "\n",
    "\n",
    "model.compile(optimizer='rmsprop',\n",
    "              loss='binary_crossentropy',\n",
    "              metrics=['accuracy'])\n",
    "\n",
    "history = model.fit(x=x_train_data,\n",
    "                    y=y_train_labels,\n",
    "                    batch_size=512,\n",
    "                    epochs=20,\n",
    "                    verbose = 0,\n",
    "                    validation_data=(x_val_train_data,y_val_train_labels))"
   ]
  },
  {
   "cell_type": "markdown",
   "metadata": {},
   "source": [
    "#### Model Visualisation"
   ]
  },
  {
   "cell_type": "code",
   "execution_count": 16,
   "metadata": {},
   "outputs": [
    {
     "name": "stdout",
     "output_type": "stream",
     "text": [
      "Type of history object >> <class 'keras.callbacks.History'>\n",
      "History Keys >> dict_keys(['val_loss', 'val_acc', 'loss', 'acc'])\n",
      "[0.7865999998410543, 0.9051333333651225, 0.9287999999364217, 0.9436666665395101, 0.954133333047231, 0.9651333333969117, 0.9708000001589457, 0.9763333331108093, 0.9819333333015442, 0.9849999999682109, 0.9902666669209799, 0.9919333331425985, 0.9929333333333333, 0.9940666666666667, 0.9965333333333334, 0.9974, 0.9982, 0.9981333333333333, 0.9992666664759318, 0.9997333333333334]\n"
     ]
    },
    {
     "data": {
      "image/png": "[encoded data removed]",
      "text/plain": [
       "<Figure size 432x288 with 1 Axes>"
      ]
     },
     "metadata": {},
     "output_type": "display_data"
    }
   ],
   "source": [
    "import matplotlib.pyplot as plt\n",
    "\n",
    "print(f\"Type of history object >> {type(history)}\")\n",
    "print(f\"History Keys >> {history.history.keys()}\")\n",
    "print((history.history['acc']))\n",
    "\n",
    "acc_values = history.history['acc']\n",
    "val_acc_values = history.history['val_acc']\n",
    "epochs = range(1, len(acc_values) + 1)\n",
    "\n",
    "plt.clf()\n",
    "plt.plot(epochs, acc_values, 'bo', label='Training acc')\n",
    "plt.plot(epochs, val_acc_values, 'b', label='Validation acc')\n",
    "plt.title('Training and validation accuracy')\n",
    "plt.xlabel('Epochs')\n",
    "plt.ylabel('Acc')\n",
    "plt.legend()\n",
    "plt.show()\n"
   ]
  },
  {
   "cell_type": "code",
   "execution_count": 17,
   "metadata": {},
   "outputs": [
    {
     "data": {
      "image/png": "[encoded data removed]",
      "text/plain": [
       "<Figure size 432x288 with 1 Axes>"
      ]
     },
     "metadata": {},
     "output_type": "display_data"
    }
   ],
   "source": [
    "loss_values = history.history['loss']\n",
    "val_loss_values = history.history['val_loss']\n",
    "epochs = range(1, len(loss_values) + 1)\n",
    "\n",
    "plt.clf()\n",
    "plt.plot(epochs, loss_values, 'bo', label='Training loss')\n",
    "plt.plot(epochs, val_loss_values, 'b', label='Validation loss')\n",
    "plt.title('Training and validation loss')\n",
    "plt.xlabel('Epochs')\n",
    "plt.ylabel('Loss')\n",
    "plt.legend()\n",
    "plt.show()\n"
   ]
  },
  {
   "cell_type": "markdown",
   "metadata": {},
   "source": [
    "### Testing"
   ]
  },
  {
   "cell_type": "markdown",
   "metadata": {},
   "source": [
    "#### Prediction"
   ]
  },
  {
   "cell_type": "code",
   "execution_count": 18,
   "metadata": {},
   "outputs": [
    {
     "name": "stdout",
     "output_type": "stream",
     "text": [
      "Type of results object >> <class 'numpy.ndarray'>\n",
      "NDim of results object >> 2\n",
      "Shape of results object >> (25000, 1)\n",
      "[[0.00744385]\n",
      " [0.99999976]\n",
      " [0.9063444 ]\n",
      " ...\n",
      " [0.0016883 ]\n",
      " [0.00705766]\n",
      " [0.76169556]]\n"
     ]
    }
   ],
   "source": [
    "results = model.predict(x_test_data)\n",
    "print(f\"Type of results object >> {type(results)}\")\n",
    "print(f\"NDim of results object >> {results.ndim}\")\n",
    "print(f\"Shape of results object >> {results.shape}\")\n",
    "print(results)"
   ]
  },
  {
   "cell_type": "markdown",
   "metadata": {},
   "source": [
    "#### Evaluation"
   ]
  },
  {
   "cell_type": "code",
   "execution_count": 19,
   "metadata": {},
   "outputs": [
    {
     "name": "stdout",
     "output_type": "stream",
     "text": [
      "25000/25000 [==============================] - 1s 51us/step\n",
      "Type of score object >> <class 'list'>\n",
      "[0.7662144334220886, 0.8486399999046326]\n",
      "['loss', 'acc']\n",
      "The accuracy of the model >> 0.8486399999046326\n"
     ]
    }
   ],
   "source": [
    "score = model.evaluate(x_test_data, y_test_labels, batch_size=512)\n",
    "print(f\"Type of score object >> {type(score)}\")\n",
    "print(score)\n",
    "print(model.metrics_names)\n",
    "print(f\"The accuracy of the model >> {score[1]}\")"
   ]
  }
 ],
 "metadata": {
  "kernelspec": {
   "display_name": "Python 3",
   "language": "python",
   "name": "python3"
  },
  "language_info": {
   "codemirror_mode": {
    "name": "ipython",
    "version": 3
   },
   "file_extension": ".py",
   "mimetype": "text/x-python",
   "name": "python",
   "nbconvert_exporter": "python",
   "pygments_lexer": "ipython3",
   "version": "3.6.5"
  },
  "latex_envs": {
   "LaTeX_envs_menu_present": true,
   "autoclose": false,
   "autocomplete": true,
   "bibliofile": "biblio.bib",
   "cite_by": "apalike",
   "current_citInitial": 1,
   "eqLabelWithNumbers": true,
   "eqNumInitial": 1,
   "hotkeys": {
    "equation": "Ctrl-E",
    "itemize": "Ctrl-I"
   },
   "labels_anchors": false,
   "latex_user_defs": false,
   "report_style_numbering": false,
   "user_envs_cfg": false
  }
 },
 "nbformat": 4,
 "nbformat_minor": 2
}
